{
 "cells": [
  {
   "cell_type": "code",
   "execution_count": 10,
   "id": "479e619b",
   "metadata": {},
   "outputs": [],
   "source": [
    "from torch_geometric.datasets import Planetoid\n",
    "import torch\n",
    "import torch.nn as nn\n",
    "import torch.nn.functional as F\n",
    "from torch.nn.modules.module import Module\n",
    "from torch.nn.parameter import Parameter \n",
    "import numpy as np\n",
    "from sklearn.manifold import TSNE "
   ]
  },
  {
   "cell_type": "code",
   "execution_count": 5,
   "id": "7beaa6e0",
   "metadata": {},
   "outputs": [],
   "source": [
    "dataset = Planetoid(root='/tmp/Cora', name='Cora')\n",
    "data = dataset[0]"
   ]
  },
  {
   "cell_type": "code",
   "execution_count": 80,
   "id": "1ab989f5",
   "metadata": {},
   "outputs": [],
   "source": [
    "class GraphAE(Module):\n",
    "    def __init__(self, X, A, hid_dim = 32, embed_dim = 16, \\\n",
    "                 renormalize = False, act_func = F.relu):\n",
    "        super(GraphAE, self).__init__()\n",
    "        self.X = X\n",
    "        self.A = A\n",
    "        self.act_func = act_func\n",
    "        \n",
    "        self.in_feat = X.shape[1]\n",
    "        self.weight_0 = Parameter(torch.FloatTensor(self.in_feat, hid_dim))\n",
    "        self.weight_mu = Parameter(torch.FloatTensor(hid_dim, embed_dim))\n",
    "#         self.weight_sigma = Parameter(torch.FloatTensor(hid_dim, embed_dim))\n",
    "        \n",
    "        # compute symmetrically normalized adjacency matrix\n",
    "        self.norm_adj = A + 0\n",
    "        if renormalize:\n",
    "            self.norm_adj += np.eye(self.A.shape[0])\n",
    "        D_half_inv = np.diag(self.norm_adj.sum(axis = 0)**(-0.5))\n",
    "        self.norm_adj = np.matmul(D_half_inv, self.norm_adj.dot(D_half_inv))\n",
    "        self.norm_adj = torch.FloatTensor(self.norm_adj)\n",
    "        \n",
    "        self.reset_parameters()\n",
    "        \n",
    "    def reset_parameters(self):\n",
    "        torch.nn.init.xavier_normal_(self.weight_0)\n",
    "        torch.nn.init.xavier_normal_(self.weight_mu)\n",
    "#         torch.nn.init.xavier_normal_(self.weight_sigma)\n",
    "\n",
    "    def forward(self, input_):\n",
    "        hid_ = self.act_func(torch.spmm(self.norm_adj, \\\n",
    "                                        torch.spmm(input_, self.weight_0)))\n",
    "        mu_embed_ = torch.spmm(self.norm_adj, \\\n",
    "                            torch.spmm(hid_, self.weight_mu))\n",
    "#         sigma_embed_ = torch.spmm(self.norm_adj, \\\n",
    "#                             torch.spmm(hid_, self.weight_sigma))\n",
    "\n",
    "        \n",
    "        pre_output = torch.mm(mu_embed_, mu_embed_.transpose(0, 1))\n",
    "        output = torch.sigmoid(pre_output)\n",
    "        return mu_embed_, output\n",
    "        "
   ]
  },
  {
   "cell_type": "code",
   "execution_count": 81,
   "id": "a3b9f188",
   "metadata": {},
   "outputs": [
    {
     "data": {
      "text/plain": [
       "Data(edge_index=[2, 10556], test_mask=[2708], train_mask=[2708], val_mask=[2708], x=[2708, 1433], y=[2708])"
      ]
     },
     "execution_count": 81,
     "metadata": {},
     "output_type": "execute_result"
    }
   ],
   "source": [
    "data"
   ]
  },
  {
   "cell_type": "code",
   "execution_count": 82,
   "id": "42b5a9ce",
   "metadata": {},
   "outputs": [],
   "source": [
    "# construct feature matrix and adjecent matrix\n",
    "X = data.x\n",
    "# A = torch.zeros(X.shape[0], X.shape[0])\n",
    "A = np.zeros((X.shape[0],X.shape[0]))\n",
    "for i, j in zip(data.edge_index[0], data.edge_index[1]):\n",
    "    A[i, j] = 1\n",
    "    A[j, i] = 1"
   ]
  },
  {
   "cell_type": "code",
   "execution_count": 83,
   "id": "ae080145",
   "metadata": {},
   "outputs": [],
   "source": [
    "model = GraphAE(X, A)"
   ]
  },
  {
   "cell_type": "code",
   "execution_count": 84,
   "id": "08dd6aab",
   "metadata": {},
   "outputs": [],
   "source": [
    "a = model(X)"
   ]
  },
  {
   "cell_type": "markdown",
   "id": "bde8c343",
   "metadata": {},
   "source": [
    "# TODO\n",
    "1. training function\n",
    "2. loss function\n",
    "3. plot function"
   ]
  },
  {
   "cell_type": "code",
   "execution_count": null,
   "id": "dad534b1",
   "metadata": {},
   "outputs": [],
   "source": []
  }
 ],
 "metadata": {
  "kernelspec": {
   "display_name": "Python 3",
   "language": "python",
   "name": "python3"
  },
  "language_info": {
   "codemirror_mode": {
    "name": "ipython",
    "version": 3
   },
   "file_extension": ".py",
   "mimetype": "text/x-python",
   "name": "python",
   "nbconvert_exporter": "python",
   "pygments_lexer": "ipython3",
   "version": "3.8.8"
  }
 },
 "nbformat": 4,
 "nbformat_minor": 5
}
